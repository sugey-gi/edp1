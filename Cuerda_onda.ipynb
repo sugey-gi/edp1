{
  "nbformat": 4,
  "nbformat_minor": 0,
  "metadata": {
    "colab": {
      "provenance": [],
      "authorship_tag": "ABX9TyOaD3TgqSnZEbVXYL16OAtm",
      "include_colab_link": true
    },
    "kernelspec": {
      "name": "python3",
      "display_name": "Python 3"
    },
    "language_info": {
      "name": "python"
    }
  },
  "cells": [
    {
      "cell_type": "markdown",
      "metadata": {
        "id": "view-in-github",
        "colab_type": "text"
      },
      "source": [
        "<a href=\"https://colab.research.google.com/github/sugey-gi/edp1/blob/main/Cuerda_onda.ipynb\" target=\"_parent\"><img src=\"https://colab.research.google.com/assets/colab-badge.svg\" alt=\"Open In Colab\"/></a>"
      ]
    },
    {
      "cell_type": "code",
      "execution_count": null,
      "metadata": {
        "id": "fCInAzFycALk"
      },
      "outputs": [],
      "source": [
        "import numpy as np\n",
        "import matplotlib.pyplot as plt\n",
        "\n",
        "# Parámetros físicos\n",
        "L = 1.0      # Longitud de la cuerda (m)\n",
        "k = 0.1      # Amplitud máxima de deflexión (m)\n",
        "c = 1.0      # Velocidad de propagación (m/s)\n",
        "\n",
        "# Discretización espacial y temporal\n",
        "Nx = 100     # Número de puntos espaciales\n",
        "Nt = 200     # Número de pasos de tiempo\n",
        "dx = L / (Nx - 1)\n",
        "dt = 0.5 * dx / c  # Criterio de estabilidad de Courant\n",
        "\n",
        "# Mallado espacial\n",
        "x = np.linspace(0, L, Nx)\n",
        "\n",
        "# Función de deflexión inicial triangular (vectorizada)\n",
        "def initial_deflection(x, L, k):\n",
        "    return np.where(x <= L/2, (2 * k * x) / L, (2 * k * (L - x)) / L)\n",
        "\n",
        "# Inicialización de matrices de estado\n",
        "u = np.zeros((Nt, Nx))         # Solución completa\n",
        "u_prev = initial_deflection(x, L, k)  # u(x, 0)\n",
        "u_curr = np.zeros(Nx)          # u(x, dt)\n",
        "\n",
        "# Condiciones iniciales\n",
        "u[0, :] = u_prev\n",
        "\n",
        "# Primer paso temporal usando Taylor expansion\n",
        "u_curr[1:-1] = u_prev[1:-1] + 0.5 * (c * dt / dx)**2 * (\n",
        "    u_prev[2:] - 2 * u_prev[1:-1] + u_prev[:-2]\n",
        ")\n",
        "u[1, :] = u_curr\n",
        "\n",
        "# Bucle en el tiempo para evolución\n",
        "for n in range(1, Nt - 1):\n",
        "    u_next = np.zeros(Nx)\n",
        "    u_next[1:-1] = 2 * u_curr[1:-1] - u_prev[1:-1] + (c * dt / dx)**2 * (\n",
        "        u_curr[2:] - 2 * u_curr[1:-1] + u_curr[:-2]\n",
        "    )\n",
        "    u_next[0] = 0    # Extremo izquierdo fijo\n",
        "    u_next[-1] = 0   # Extremo derecho fijo\n",
        "\n",
        "    # Actualizar estados\n",
        "    u_prev, u_curr = u_curr, u_next\n",
        "    u[n + 1, :] = u_curr\n",
        "\n",
        "# Visualización animada (en Jupyter Notebook)\n",
        "from IPython.display import display, clear_output\n",
        "import time\n",
        "\n",
        "fig, ax = plt.subplots()\n",
        "line, = ax.plot(x, u[0, :])\n",
        "ax.set_ylim([-1.5 * k, 1.5 * k])\n",
        "ax.set_xlabel('Posición x')\n",
        "ax.set_ylabel('Deflexión u(x, t)')\n",
        "\n",
        "for n in range(0, Nt, 10):\n",
        "    line.set_ydata(u[n, :])\n",
        "    ax.set_title(f'Evolución de la Cuerda Vibratoria (Tiempo: {n * dt:.3f} s)')\n",
        "    display(fig)\n",
        "    clear_output(wait=True)\n",
        "    time.sleep(0.01)\n",
        "\n",
        "plt.close(fig)"
      ]
    }
  ]
}