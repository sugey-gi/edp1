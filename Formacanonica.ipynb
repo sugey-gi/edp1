{
  "nbformat": 4,
  "nbformat_minor": 0,
  "metadata": {
    "colab": {
      "provenance": [],
      "authorship_tag": "ABX9TyMj9HFHrmdVpZ7QrUqFhSuL",
      "include_colab_link": true
    },
    "kernelspec": {
      "name": "python3",
      "display_name": "Python 3"
    },
    "language_info": {
      "name": "python"
    }
  },
  "cells": [
    {
      "cell_type": "markdown",
      "metadata": {
        "id": "view-in-github",
        "colab_type": "text"
      },
      "source": [
        "<a href=\"https://colab.research.google.com/github/sugey-gi/edp1/blob/main/Formacanonica.ipynb\" target=\"_parent\"><img src=\"https://colab.research.google.com/assets/colab-badge.svg\" alt=\"Open In Colab\"/></a>"
      ]
    },
    {
      "cell_type": "code",
      "source": [
        "from sympy import symbols, Function, diff, Eq, solve, simplify\n",
        "\n",
        "# Variables y EDP\n",
        "x, y = symbols('x y')\n",
        "u = Function('u')(x, y)\n",
        "edp = Eq(diff(u, x, x) - 4*diff(u, x, y) + 4*diff(u, y, y) + 2*diff(u, x) + diff(u, y) + u, 0)\n",
        "print(\"EDP: u_xx - 4u_xy + 4u_yy + 2u_x + u_y + u = 0\")\n",
        "\n",
        "# Discriminante\n",
        "A, B, C = 1, -4, 4\n",
        "disc = B**2 - 4*A*C\n",
        "print(f\"Discriminante: {disc} (parabolica)\")\n",
        "\n",
        "# Ecuacion caracteristica\n",
        "m = symbols('m')\n",
        "m_valor = solve(A*m**2 - B*m + C, m)[0]\n",
        "print(f\"Pendiente: {m_valor}\")\n",
        "\n",
        "# Variable caracteristica\n",
        "xi = y - m_valor*x\n",
        "print(f\"xi = {xi}\")\n",
        "\n",
        "# Nueva funcion U(xi, eta) con eta = x\n",
        "eta = x\n",
        "xi_sym, eta_sym = symbols('xi eta')\n",
        "U = Function('U')(xi_sym, eta_sym)\n",
        "\n",
        "# Derivadas\n",
        "u_x = diff(U, xi_sym)*diff(xi, x) + diff(U, eta_sym)*diff(eta, x)\n",
        "u_y = diff(U, xi_sym)*diff(xi, y) + diff(U, eta_sym)*diff(eta, y)\n",
        "u_xx = diff(u_x, x)\n",
        "u_xy = diff(u_x, y)\n",
        "u_yy = diff(u_y, y)\n",
        "\n",
        "# Forma canonica\n",
        "edp_canonica = edp.subs({diff(u, x, x): u_xx, diff(u, x, y): u_xy, diff(u, y, y): u_yy, diff(u, x): u_x, diff(u, y): u_y, u: U})\n",
        "print(f\"Forma canonica: {simplify(edp_canonica)}\")"
      ],
      "metadata": {
        "id": "XsM-sxtAhZ8w",
        "outputId": "d25f2df3-a923-463b-8c63-851976351056",
        "colab": {
          "base_uri": "https://localhost:8080/"
        }
      },
      "execution_count": null,
      "outputs": [
        {
          "output_type": "stream",
          "name": "stdout",
          "text": [
            "EDP: u_xx - 4u_xy + 4u_yy + 2u_x + u_y + u = 0\n",
            "Discriminante: 0 (parabolica)\n",
            "Pendiente: -2\n",
            "xi = 2*x + y\n",
            "Forma canonica: Eq(U(xi, eta) + 2*Derivative(U(xi, eta), eta) + 5*Derivative(U(xi, eta), xi), 0)\n"
          ]
        }
      ]
    }
  ]
}